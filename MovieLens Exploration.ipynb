{
 "cells": [
  {
   "cell_type": "code",
   "execution_count": 17,
   "metadata": {},
   "outputs": [],
   "source": [
    "import pandas as pd\n",
    "import numpy as np\n",
    "\n",
    "df = pd.read_csv('ratings.csv')"
   ]
  },
  {
   "cell_type": "code",
   "execution_count": 18,
   "metadata": {},
   "outputs": [
    {
     "data": {
      "text/html": [
       "<div>\n",
       "<style scoped>\n",
       "    .dataframe tbody tr th:only-of-type {\n",
       "        vertical-align: middle;\n",
       "    }\n",
       "\n",
       "    .dataframe tbody tr th {\n",
       "        vertical-align: top;\n",
       "    }\n",
       "\n",
       "    .dataframe thead th {\n",
       "        text-align: right;\n",
       "    }\n",
       "</style>\n",
       "<table border=\"1\" class=\"dataframe\">\n",
       "  <thead>\n",
       "    <tr style=\"text-align: right;\">\n",
       "      <th></th>\n",
       "      <th>userId</th>\n",
       "      <th>movieId</th>\n",
       "      <th>rating</th>\n",
       "      <th>timestamp</th>\n",
       "    </tr>\n",
       "  </thead>\n",
       "  <tbody>\n",
       "    <tr>\n",
       "      <th>0</th>\n",
       "      <td>1</td>\n",
       "      <td>1</td>\n",
       "      <td>4.0</td>\n",
       "      <td>964982703</td>\n",
       "    </tr>\n",
       "    <tr>\n",
       "      <th>1</th>\n",
       "      <td>1</td>\n",
       "      <td>3</td>\n",
       "      <td>4.0</td>\n",
       "      <td>964981247</td>\n",
       "    </tr>\n",
       "    <tr>\n",
       "      <th>2</th>\n",
       "      <td>1</td>\n",
       "      <td>6</td>\n",
       "      <td>4.0</td>\n",
       "      <td>964982224</td>\n",
       "    </tr>\n",
       "    <tr>\n",
       "      <th>3</th>\n",
       "      <td>1</td>\n",
       "      <td>47</td>\n",
       "      <td>5.0</td>\n",
       "      <td>964983815</td>\n",
       "    </tr>\n",
       "    <tr>\n",
       "      <th>4</th>\n",
       "      <td>1</td>\n",
       "      <td>50</td>\n",
       "      <td>5.0</td>\n",
       "      <td>964982931</td>\n",
       "    </tr>\n",
       "  </tbody>\n",
       "</table>\n",
       "</div>"
      ],
      "text/plain": [
       "   userId  movieId  rating  timestamp\n",
       "0       1        1     4.0  964982703\n",
       "1       1        3     4.0  964981247\n",
       "2       1        6     4.0  964982224\n",
       "3       1       47     5.0  964983815\n",
       "4       1       50     5.0  964982931"
      ]
     },
     "execution_count": 18,
     "metadata": {},
     "output_type": "execute_result"
    }
   ],
   "source": [
    "df.head()"
   ]
  },
  {
   "cell_type": "code",
   "execution_count": 19,
   "metadata": {},
   "outputs": [
    {
     "data": {
      "text/plain": [
       "9724"
      ]
     },
     "execution_count": 19,
     "metadata": {},
     "output_type": "execute_result"
    }
   ],
   "source": [
    "n_users = df.userId.unique().shape[0]\n",
    "n_items = df.movieId.unique().shape[0]\n",
    "n_items"
   ]
  },
  {
   "cell_type": "code",
   "execution_count": 20,
   "metadata": {},
   "outputs": [],
   "source": [
    "#map movieId to indices since movieId's are not consequtive integers\n",
    "item_ind = {}\n",
    "lastind = 0\n",
    "for row in df.itertuples():\n",
    "    if row[2] in item_ind:\n",
    "        continue\n",
    "    else:\n",
    "        item_ind[row[2]] = lastind\n",
    "        lastind += 1"
   ]
  },
  {
   "cell_type": "code",
   "execution_count": 21,
   "metadata": {},
   "outputs": [
    {
     "name": "stdout",
     "output_type": "stream",
     "text": [
      "(610, 9724)\n"
     ]
    },
    {
     "data": {
      "text/plain": [
       "array([[4. , 4. , 4. , ..., 0. , 0. , 0. ],\n",
       "       [0. , 0. , 0. , ..., 0. , 0. , 0. ],\n",
       "       [0. , 0. , 0. , ..., 0. , 0. , 0. ],\n",
       "       ...,\n",
       "       [2.5, 2. , 0. , ..., 0. , 0. , 0. ],\n",
       "       [3. , 0. , 0. , ..., 0. , 0. , 0. ],\n",
       "       [5. , 0. , 5. , ..., 3. , 3.5, 3.5]])"
      ]
     },
     "execution_count": 21,
     "metadata": {},
     "output_type": "execute_result"
    }
   ],
   "source": [
    "ratings = np.zeros((n_users,n_items))\n",
    "print(ratings.shape)\n",
    "for row in df.itertuples():\n",
    "    ratings[row[1]-1,item_ind[row[2]]] = row[3]\n",
    "ratings"
   ]
  },
  {
   "cell_type": "code",
   "execution_count": 22,
   "metadata": {},
   "outputs": [
    {
     "name": "stdout",
     "output_type": "stream",
     "text": [
      "number of users: 610\n",
      "number of items: 9724\n",
      "sparsity:  1.6999683055613624 %\n"
     ]
    }
   ],
   "source": [
    "print('number of users:',n_users)\n",
    "print('number of items:',n_items)\n",
    "sparsity = (float(len(ratings.nonzero()[0])) / float(n_users*n_items)) * 100\n",
    "print('sparsity: ',sparsity,'%')"
   ]
  },
  {
   "cell_type": "code",
   "execution_count": 23,
   "metadata": {},
   "outputs": [],
   "source": [
    "#take 10 randomly selected ratings from each user and use this as the testing set\n",
    "def train_test_split(ratings):\n",
    "    test = np.zeros(ratings.shape)\n",
    "    train = ratings.copy()\n",
    "    \n",
    "    for row in range(n_users):\n",
    "        ind = ratings[row,:].nonzero()[0]\n",
    "        nind = len(ind)\n",
    "        test_ind = np.random.choice(ind,size=10,replace=False)\n",
    "        train[row,test_ind] = 0.0\n",
    "        test[row,test_ind] = ratings[row,test_ind]\n",
    "        \n",
    "    #make sure training and testing sets are disjoint\n",
    "    assert(np.all(train*test==0))\n",
    "    \n",
    "    return train,test"
   ]
  },
  {
   "cell_type": "code",
   "execution_count": 24,
   "metadata": {},
   "outputs": [],
   "source": [
    "train,test = train_test_split(ratings)"
   ]
  },
  {
   "cell_type": "code",
   "execution_count": 25,
   "metadata": {},
   "outputs": [
    {
     "name": "stdout",
     "output_type": "stream",
     "text": [
      "(array([ 520,  812, 1094, 2949, 2957, 3308, 4794, 7133, 9633, 9669],\n",
      "      dtype=int64),)\n",
      "(array([   0,    2,    3, ..., 9721, 9722, 9723], dtype=int64),)\n",
      "(610, 9724)\n"
     ]
    }
   ],
   "source": [
    "print(test[609,:].nonzero())\n",
    "print(train[609,:].nonzero())\n",
    "print(train.shape)"
   ]
  },
  {
   "cell_type": "code",
   "execution_count": 27,
   "metadata": {},
   "outputs": [],
   "source": [
    "import MF\n",
    "ALS_MF = MF.ExplicitMF(train,n_factors=10,item_reg=0.0,user_reg=0.0,alg='als')"
   ]
  },
  {
   "cell_type": "code",
   "execution_count": 28,
   "metadata": {},
   "outputs": [],
   "source": [
    "import matplotlib.pyplot as plt\n",
    "\n",
    "def plot_learning_curve(iter_list,test):\n",
    "    test_mse,train_mse = ALS_MF.learning_curve(iter_list,test)\n",
    "    \n",
    "    plt.figure(figsize=(10,8))\n",
    "    plt.plot(iter_list,test_mse,'-X',label='Test MSE')\n",
    "    plt.plot(iter_list,train_mse,'-D',label='Train MSE')\n",
    "    plt.xlabel('no. of iterations')\n",
    "    plt.ylabel('MSE')\n",
    "    plt.legend()\n",
    "    plt.show()"
   ]
  },
  {
   "cell_type": "code",
   "execution_count": 29,
   "metadata": {},
   "outputs": [
    {
     "data": {
      "image/png": "[encoded data removed]",
      "text/plain": [
       "<Figure size 720x576 with 1 Axes>"
      ]
     },
     "metadata": {
      "needs_background": "light"
     },
     "output_type": "display_data"
    }
   ],
   "source": [
    "iter_list = []\n",
    "for i in range(4):\n",
    "    iter_list.append(2**i)\n",
    "    \n",
    "plot_learning_curve(iter_list,test)"
   ]
  },
  {
   "cell_type": "code",
   "execution_count": 30,
   "metadata": {},
   "outputs": [
    {
     "name": "stdout",
     "output_type": "stream",
     "text": [
      "iter:  0 0\n",
      "iter:  0 1\n",
      "iter:  0 2\n",
      "iter:  1 0\n",
      "iter:  1 1\n",
      "iter:  1 2\n",
      "iter:  2 0\n",
      "iter:  2 1\n",
      "iter:  2 2\n",
      "iter:  3 0\n",
      "iter:  3 1\n",
      "iter:  3 2\n",
      "optimal number of factors =  40\n",
      "optimal regularization parameter =  1\n"
     ]
    }
   ],
   "source": [
    "#find optimal hyper-params\n",
    "iter_list = []\n",
    "for i in range(5):\n",
    "    iter_list.append(2**i)\n",
    "    \n",
    "reg_list = [0.01,0.1,1]\n",
    "fact_list = [5,10,20,40]\n",
    "\n",
    "test_mse_mat = np.zeros((len(fact_list),len(reg_list)))\n",
    "rowcounter = 0\n",
    "colcounter = 0\n",
    "for fact in fact_list:\n",
    "    for reg in reg_list:\n",
    "        print('iter: ',rowcounter,colcounter)\n",
    "        \n",
    "        ALS_MF = MF.ExplicitMF(train,n_factors=fact,item_reg=reg,user_reg=reg)\n",
    "        \n",
    "        test_mse,train_mse = ALS_MF.learning_curve(iter_list,test)\n",
    "        \n",
    "        test_mse_mat[rowcounter,colcounter] = test_mse[-1]\n",
    "        \n",
    "        colcounter += 1\n",
    "    \n",
    "    rowcounter += 1\n",
    "    colcounter = 0\n",
    "        \n",
    "ind_opt =  np.unravel_index(np.argmin(test_mse_mat),test_mse_mat.shape)\n",
    "\n",
    "fact_opt = fact_list[ind_opt[0]]\n",
    "reg_opt = reg_list[ind_opt[1]]\n",
    "\n",
    "print('optimal number of factors = ',fact_opt)\n",
    "print('optimal regularization parameter = ',reg_opt)"
   ]
  },
  {
   "cell_type": "code",
   "execution_count": 33,
   "metadata": {},
   "outputs": [],
   "source": [
    "opt_fact = 10\n",
    "opt_reg = 0.01"
   ]
  },
  {
   "cell_type": "code",
   "execution_count": 34,
   "metadata": {},
   "outputs": [],
   "source": [
    "import MF\n",
    "ALS_MF = MF.ExplicitMF(train,n_factors=opt_fact,item_reg=opt_reg,user_reg=opt_reg,alg='als')\n",
    "ALS_MF.train(2**5)"
   ]
  },
  {
   "cell_type": "code",
   "execution_count": 35,
   "metadata": {},
   "outputs": [
    {
     "data": {
      "image/png": "[encoded data removed]",
      "text/plain": [
       "<Figure size 720x576 with 1 Axes>"
      ]
     },
     "metadata": {
      "needs_background": "light"
     },
     "output_type": "display_data"
    }
   ],
   "source": [
    "iter_list = []\n",
    "for i in range(5):\n",
    "    iter_list.append(2**i)\n",
    "    \n",
    "plot_learning_curve(iter_list,test)"
   ]
  },
  {
   "cell_type": "code",
   "execution_count": 37,
   "metadata": {},
   "outputs": [],
   "source": [
    "from sklearn.metrics.pairwise import cosine_similarity\n",
    "ALS_sim = cosine_similarity(ALS_MF.item_mat)"
   ]
  },
  {
   "cell_type": "code",
   "execution_count": 38,
   "metadata": {},
   "outputs": [],
   "source": [
    "def mat_ind_to_movie_ind(mat_ind):\n",
    "    \n",
    "    for key,val in item_ind.items():\n",
    "        if val == mat_ind:\n",
    "            return key\n",
    "        \n",
    "    return False #if code ends up here, this mat_ind is invalid"
   ]
  },
  {
   "cell_type": "code",
   "execution_count": 39,
   "metadata": {},
   "outputs": [],
   "source": [
    "df_links = pd.read_csv('links.csv')"
   ]
  },
  {
   "cell_type": "code",
   "execution_count": 40,
   "metadata": {},
   "outputs": [
    {
     "data": {
      "text/html": [
       "<div>\n",
       "<style scoped>\n",
       "    .dataframe tbody tr th:only-of-type {\n",
       "        vertical-align: middle;\n",
       "    }\n",
       "\n",
       "    .dataframe tbody tr th {\n",
       "        vertical-align: top;\n",
       "    }\n",
       "\n",
       "    .dataframe thead th {\n",
       "        text-align: right;\n",
       "    }\n",
       "</style>\n",
       "<table border=\"1\" class=\"dataframe\">\n",
       "  <thead>\n",
       "    <tr style=\"text-align: right;\">\n",
       "      <th></th>\n",
       "      <th>movieId</th>\n",
       "      <th>imdbId</th>\n",
       "      <th>tmdbId</th>\n",
       "    </tr>\n",
       "  </thead>\n",
       "  <tbody>\n",
       "    <tr>\n",
       "      <th>0</th>\n",
       "      <td>1</td>\n",
       "      <td>114709</td>\n",
       "      <td>862.0</td>\n",
       "    </tr>\n",
       "    <tr>\n",
       "      <th>1</th>\n",
       "      <td>2</td>\n",
       "      <td>113497</td>\n",
       "      <td>8844.0</td>\n",
       "    </tr>\n",
       "    <tr>\n",
       "      <th>2</th>\n",
       "      <td>3</td>\n",
       "      <td>113228</td>\n",
       "      <td>15602.0</td>\n",
       "    </tr>\n",
       "    <tr>\n",
       "      <th>3</th>\n",
       "      <td>4</td>\n",
       "      <td>114885</td>\n",
       "      <td>31357.0</td>\n",
       "    </tr>\n",
       "    <tr>\n",
       "      <th>4</th>\n",
       "      <td>5</td>\n",
       "      <td>113041</td>\n",
       "      <td>11862.0</td>\n",
       "    </tr>\n",
       "  </tbody>\n",
       "</table>\n",
       "</div>"
      ],
      "text/plain": [
       "   movieId  imdbId   tmdbId\n",
       "0        1  114709    862.0\n",
       "1        2  113497   8844.0\n",
       "2        3  113228  15602.0\n",
       "3        4  114885  31357.0\n",
       "4        5  113041  11862.0"
      ]
     },
     "execution_count": 40,
     "metadata": {},
     "output_type": "execute_result"
    }
   ],
   "source": [
    "df_links.head()"
   ]
  },
  {
   "cell_type": "code",
   "execution_count": 18,
   "metadata": {},
   "outputs": [
    {
     "data": {
      "text/plain": [
       "True"
      ]
     },
     "execution_count": 18,
     "metadata": {},
     "output_type": "execute_result"
    }
   ],
   "source": [
    "df_links['tmdbId'].values[2] == 15602"
   ]
  },
  {
   "cell_type": "code",
   "execution_count": 41,
   "metadata": {},
   "outputs": [],
   "source": [
    "#find top 5 recommended movies\n",
    "def display_top_k_movies(ALS_sim, movie_ind, k=5):\n",
    "    movie_ind_full = np.argsort(ALS_sim[movie_ind,:])[::-1]\n",
    "    \n",
    "    for i in range(k+1):\n",
    "        curr_ind = movie_ind_full[i]\n",
    "        \n",
    "        curr_movie_id = mat_ind_to_movie_ind(curr_ind)\n",
    "        \n",
    "        assert(curr_movie_id != False)\n",
    "        \n",
    "        ind = np.nonzero(df_links['movieId'].values == curr_movie_id)\n",
    "        \n",
    "        #print the original movie also\n",
    "        if i == 0:\n",
    "            print('original movie:')\n",
    "            print('https://www.themoviedb.org/movie/'+str(int(df_links['tmdbId'].values[np.nonzero(df_links['movieId'].values == mat_ind_to_movie_ind(movie_ind))])))\n",
    "            print('')\n",
    "            print('similar movies:')\n",
    "        if i > 0:\n",
    "            print('https://www.themoviedb.org/movie/'+str(int(df_links['tmdbId'].values[ind])))"
   ]
  },
  {
   "cell_type": "code",
   "execution_count": 42,
   "metadata": {},
   "outputs": [
    {
     "data": {
      "text/plain": [
       "1053"
      ]
     },
     "execution_count": 42,
     "metadata": {},
     "output_type": "execute_result"
    }
   ],
   "source": [
    "movie_id = 56174\n",
    "item_ind[movie_id]"
   ]
  },
  {
   "cell_type": "code",
   "execution_count": 43,
   "metadata": {},
   "outputs": [
    {
     "name": "stdout",
     "output_type": "stream",
     "text": [
      "original movie:\n",
      "https://www.themoviedb.org/movie/6479\n",
      "\n",
      "similar movies:\n",
      "https://www.themoviedb.org/movie/35\n",
      "https://www.themoviedb.org/movie/1271\n",
      "https://www.themoviedb.org/movie/13183\n",
      "https://www.themoviedb.org/movie/254\n",
      "https://www.themoviedb.org/movie/1571\n"
     ]
    }
   ],
   "source": [
    "display_top_k_movies(ALS_sim, item_ind[movie_id], k=5)"
   ]
  },
  {
   "cell_type": "code",
   "execution_count": 112,
   "metadata": {},
   "outputs": [
    {
     "data": {
      "text/plain": [
       "0.0"
      ]
     },
     "execution_count": 112,
     "metadata": {},
     "output_type": "execute_result"
    }
   ],
   "source": [
    "np.min(np.abs(ALS_MF.item_mat))"
   ]
  },
  {
   "cell_type": "markdown",
   "metadata": {},
   "source": [
    "## SGD"
   ]
  },
  {
   "cell_type": "code",
   "execution_count": 1,
   "metadata": {},
   "outputs": [],
   "source": [
    "#take 10 randomly selected ratings from each user and use this as the testing set\n",
    "def train_test_split(ratings):\n",
    "    test = np.zeros(ratings.shape)\n",
    "    train = ratings.copy()\n",
    "    \n",
    "    for row in range(n_users):\n",
    "        ind = ratings[row,:].nonzero()[0]\n",
    "        nind = len(ind)\n",
    "        test_ind = np.random.choice(ind,size=10,replace=False)\n",
    "        train[row,test_ind] = 0.0\n",
    "        test[row,test_ind] = ratings[row,test_ind]\n",
    "        \n",
    "    #make sure training and testing sets are disjoint\n",
    "    assert(np.all(train*test==0))\n",
    "    \n",
    "    return train,test"
   ]
  },
  {
   "cell_type": "code",
   "execution_count": 2,
   "metadata": {},
   "outputs": [
    {
     "name": "stdout",
     "output_type": "stream",
     "text": [
      "(610, 9724)\n"
     ]
    }
   ],
   "source": [
    "import MF\n",
    "import pandas as pd\n",
    "import numpy as np\n",
    "\n",
    "df = pd.read_csv('ratings.csv')\n",
    "\n",
    "n_users = df.userId.unique().shape[0]\n",
    "n_items = df.movieId.unique().shape[0]\n",
    "\n",
    "#map movieId to indices since movieId's are not consequtive integers\n",
    "item_ind = {}\n",
    "lastind = 0\n",
    "for row in df.itertuples():\n",
    "    if row[2] in item_ind:\n",
    "        continue\n",
    "    else:\n",
    "        item_ind[row[2]] = lastind\n",
    "        lastind += 1\n",
    "        \n",
    "ratings = np.zeros((n_users,n_items))\n",
    "print(ratings.shape)\n",
    "for row in df.itertuples():\n",
    "    ratings[row[1]-1,item_ind[row[2]]] = row[3]\n",
    "\n",
    "train,test = train_test_split(ratings)\n",
    "    \n",
    "SGD_MF = MF.ExplicitMF(train,n_factors=20,item_reg=0.01,user_reg=0.01,item_bias_reg=0.01,user_bias_reg=0.01,alg='sgd')"
   ]
  },
  {
   "cell_type": "code",
   "execution_count": 3,
   "metadata": {},
   "outputs": [],
   "source": [
    "import matplotlib.pyplot as plt\n",
    "\n",
    "def plot_learning_curve(iter_list,test):\n",
    "    test_mse,train_mse = SGD_MF.learning_curve(iter_list,test,learning_rate=0.01)\n",
    "    \n",
    "    plt.figure(figsize=(10,8))\n",
    "    plt.plot(iter_list,test_mse,'-X',label='Test MSE')\n",
    "    plt.plot(iter_list,train_mse,'-D',label='Train MSE')\n",
    "    plt.xlabel('no. of iterations')\n",
    "    plt.ylabel('MSE')\n",
    "    plt.legend()\n",
    "    plt.show()"
   ]
  },
  {
   "cell_type": "code",
   "execution_count": 4,
   "metadata": {},
   "outputs": [
    {
     "data": {
      "image/png": "[encoded data removed]",
      "text/plain": [
       "<Figure size 720x576 with 1 Axes>"
      ]
     },
     "metadata": {
      "needs_background": "light"
     },
     "output_type": "display_data"
    }
   ],
   "source": [
    "iter_list = [1,5,10,20]\n",
    "    \n",
    "plot_learning_curve(iter_list,test)"
   ]
  },
  {
   "cell_type": "code",
   "execution_count": 45,
   "metadata": {},
   "outputs": [
    {
     "name": "stdout",
     "output_type": "stream",
     "text": [
      "iter =  0 0 0\n",
      "iter =  0 0 1\n",
      "iter =  0 1 0\n",
      "iter =  0 1 1\n",
      "iter =  1 0 0\n",
      "iter =  1 0 1\n",
      "iter =  1 1 0\n",
      "iter =  1 1 1\n",
      "optimal number of factors =  40\n",
      "optimal regularization parameter =  10\n",
      "optimal bias regularization parameter =  20\n"
     ]
    }
   ],
   "source": [
    "#find optimal hyperparams via grid-search\n",
    "fact_vect = [10,40,80]\n",
    "reg_vect = [0.01,0.1,1]\n",
    "iter_list = [20,40,80,120]\n",
    "\n",
    "n = len(fact_vect)\n",
    "m = len(reg_vect)\n",
    "test_mse_mat = np.zeros((n,m))\n",
    "\n",
    "for i in range(n):\n",
    "    for j in range(m):\n",
    "            print('iter = ',int(i),int(j)\n",
    "            \n",
    "            SGD_MF = MF.ExplicitMF(train,n_factors=fact_vect[i],item_reg=reg_vect[j],user_reg=reg_vect[j],item_bias_reg=reg_vect[j],user_bias_reg=reg_vect[j],alg='sgd')\n",
    "            \n",
    "            test_mse,train_mse = SGD_MF.learning_curve(iter_list,test,learning_rate=0.001)\n",
    "            \n",
    "            test_mse_mat[i,j] = test_mse[-1]\n",
    "            \n",
    "ind_opt =  np.unravel_index(np.argmin(test_mse_mat),test_mse_mat.shape)\n",
    "\n",
    "opt_fact = fact_vect[ind_opt[0]]\n",
    "opt_reg = reg_vect[ind_opt[1]]\n",
    "opt_bias_reg = reg_vect[ind_opt[2]]\n",
    "\n",
    "print('optimal number of factors = ',opt_fact)\n",
    "print('optimal regularization parameter = ',opt_reg)\n",
    "print('optimal bias regularization parameter = ',opt_bias_reg)"
   ]
  },
  {
   "cell_type": "code",
   "execution_count": 42,
   "metadata": {},
   "outputs": [
    {
     "name": "stdout",
     "output_type": "stream",
     "text": [
      "optimal number of factors =  80\n",
      "optimal regularization parameter =  0.1\n",
      "optimal number of iterations =  40\n"
     ]
    }
   ],
   "source": [
    "import multiprocessing as mp\n",
    "from hyperparam_opt import hyperparam_grid_search\n",
    "\n",
    "fact_vect = [5,10,40,80]\n",
    "reg_vect = [0.01,0.1,1]\n",
    "iter_list = [1,5,10,20,40,80,160,320]\n",
    "n = len(fact_vect)\n",
    "\n",
    "pool = mp.Pool(mp.cpu_count())\n",
    "\n",
    "results = [pool.apply_async(hyperparam_grid_search,args=(i,iter_list,test,train,fact_vect,reg_vect)) for i in range(n)]\n",
    "\n",
    "output = [p.get() for p in results]\n",
    "\n",
    "for i in range(n):\n",
    "    if i == 0:\n",
    "        final_min = output[i][2]\n",
    "        final_min_ind_fact = output[i][0]\n",
    "        final_min_ind_reg = output[i][1]\n",
    "        final_opt_iter = output[i][3]\n",
    "    elif i > 0:\n",
    "        curr_min = output[i][2]\n",
    "        if curr_min < final_min:\n",
    "            final_min = curr_min\n",
    "            final_min_ind_fact = output[i][0]\n",
    "            final_min_ind_reg = output[i][1]\n",
    "            final_opt_iter = output[i][3]\n",
    "            \n",
    "opt_fact = fact_vect[final_min_ind_fact]\n",
    "opt_reg = reg_vect[final_min_ind_reg[0]]\n",
    "print('optimal number of factors = ',opt_fact)\n",
    "print('optimal regularization parameter = ',opt_reg)\n",
    "print('optimal number of iterations = ',final_opt_iter)"
   ]
  },
  {
   "cell_type": "code",
   "execution_count": 43,
   "metadata": {},
   "outputs": [
    {
     "data": {
      "text/plain": [
       "[(0, (1,), 0.8233343760693943, 40),\n",
       " (1, (1,), 0.8189227567150281, 20),\n",
       " (2, (1,), 0.7826445707055417, 20),\n",
       " (3, (1,), 0.7818702165957074, 40)]"
      ]
     },
     "execution_count": 43,
     "metadata": {},
     "output_type": "execute_result"
    }
   ],
   "source": [
    "output"
   ]
  },
  {
   "cell_type": "code",
   "execution_count": 44,
   "metadata": {},
   "outputs": [
    {
     "data": {
      "image/png": "[encoded data removed]",
      "text/plain": [
       "<Figure size 720x576 with 1 Axes>"
      ]
     },
     "metadata": {
      "needs_background": "light"
     },
     "output_type": "display_data"
    }
   ],
   "source": [
    "#opt_fact = 10\n",
    "#opt_reg = 0.1\n",
    "#opt_bias_reg = 0.1\n",
    "opt_fact = 80\n",
    "opt_reg = 0.1\n",
    "opt_bias_reg = 0.1\n",
    "final_opt_iter = 40\n",
    "\n",
    "SGD_MF = MF.ExplicitMF(train,n_factors=opt_fact,item_reg=opt_reg,user_reg=opt_reg,item_bias_reg=opt_bias_reg,user_bias_reg=opt_bias_reg,alg='sgd')\n",
    "\n",
    "iter_list = [1,10,20,40,80]\n",
    "    \n",
    "plot_learning_curve(iter_list,test)"
   ]
  },
  {
   "cell_type": "code",
   "execution_count": 45,
   "metadata": {},
   "outputs": [],
   "source": [
    "def mat_ind_to_movie_ind(mat_ind):\n",
    "    \n",
    "    for key,val in item_ind.items():\n",
    "        if val == mat_ind:\n",
    "            return key\n",
    "        \n",
    "    return False #if code ends up here, this mat_ind is invalid"
   ]
  },
  {
   "cell_type": "code",
   "execution_count": 46,
   "metadata": {},
   "outputs": [],
   "source": [
    "df_links = pd.read_csv('links.csv')"
   ]
  },
  {
   "cell_type": "code",
   "execution_count": 47,
   "metadata": {},
   "outputs": [],
   "source": [
    "SGD_MF = MF.ExplicitMF(ratings,n_factors=opt_fact,item_reg=opt_reg,user_reg=opt_reg,item_bias_reg=opt_bias_reg,user_bias_reg=opt_bias_reg,alg='sgd')\n",
    "SGD_MF.train(final_opt_iter,learning_rate=0.01)"
   ]
  },
  {
   "cell_type": "code",
   "execution_count": 50,
   "metadata": {},
   "outputs": [],
   "source": [
    "from sklearn.metrics.pairwise import cosine_similarity\n",
    "SGD_sim = cosine_similarity(SGD_MF.item_mat)"
   ]
  },
  {
   "cell_type": "code",
   "execution_count": 51,
   "metadata": {},
   "outputs": [
    {
     "name": "stdout",
     "output_type": "stream",
     "text": [
      "[ 0.0009014  -0.2406434  -0.03273687 -0.02269815  0.04727213  0.09707042\n",
      "  0.01112343 -0.04182106 -0.01606831 -0.10742616  0.07535754 -0.05641038\n",
      " -0.01572163  0.10598394  0.11623683  0.03746658 -0.06115645 -0.02792902\n",
      "  0.02578862  0.08442819 -0.09312223  0.01201079  0.05271172 -0.00987986\n",
      " -0.07240367  0.19618558 -0.0005091   0.05476887  0.1416792   0.08601538\n",
      "  0.05253393  0.04203847  0.11683583  0.1838692  -0.07692872 -0.06533562\n",
      " -0.03796507 -0.03258677 -0.0386718  -0.02433561  0.0099549  -0.05972484\n",
      " -0.05398074  0.06060184  0.152875    0.10847943 -0.02508191  0.01179508\n",
      " -0.0704962   0.08070703  0.18799464 -0.01229896 -0.08190789  0.01080476\n",
      "  0.02513782  0.04917025 -0.12669899  0.13901497  0.01842272  0.0212677\n",
      "  0.00254595  0.0996884  -0.19154566  0.0583886  -0.08749632 -0.0251718\n",
      " -0.022383    0.08602545  0.1135018   0.06126823  0.11896223 -0.17149587\n",
      " -0.17344976 -0.06414936 -0.06903093  0.03671732  0.0112386   0.03140717\n",
      " -0.07366533 -0.02445025]\n"
     ]
    }
   ],
   "source": [
    "print(SGD_MF.item_mat[0,:])"
   ]
  },
  {
   "cell_type": "code",
   "execution_count": 52,
   "metadata": {},
   "outputs": [],
   "source": [
    "#find top 5 recommended movies\n",
    "def display_top_k_movies(sim, movie_ind, k=5):\n",
    "    movie_ind_full = np.argsort(sim[movie_ind,:])[::-1]\n",
    "    \n",
    "    for i in range(k+1):\n",
    "        curr_ind = movie_ind_full[i]\n",
    "        \n",
    "        curr_movie_id = mat_ind_to_movie_ind(curr_ind)\n",
    "        \n",
    "        assert(curr_movie_id != False)\n",
    "        \n",
    "        ind = np.nonzero(df_links['movieId'].values == curr_movie_id)\n",
    "        \n",
    "        #print the original movie also\n",
    "        if i == 0:\n",
    "            print('original movie:')\n",
    "            print('https://www.themoviedb.org/movie/'+str(int(df_links['tmdbId'].values[np.nonzero(df_links['movieId'].values == mat_ind_to_movie_ind(movie_ind))])))\n",
    "            print('')\n",
    "            print('recommended movies:')\n",
    "        elif i > 0: \n",
    "            print('https://www.themoviedb.org/movie/'+str(int(df_links['tmdbId'].values[ind])))"
   ]
  },
  {
   "cell_type": "code",
   "execution_count": 59,
   "metadata": {
    "scrolled": false
   },
   "outputs": [
    {
     "name": "stdout",
     "output_type": "stream",
     "text": [
      "original movie:\n",
      "https://www.themoviedb.org/movie/106646\n",
      "\n",
      "recommended movies:\n",
      "https://www.themoviedb.org/movie/207703\n",
      "https://www.themoviedb.org/movie/81530\n",
      "https://www.themoviedb.org/movie/87827\n",
      "https://www.themoviedb.org/movie/41768\n",
      "https://www.themoviedb.org/movie/14584\n"
     ]
    }
   ],
   "source": [
    "movie_id = 106782\n",
    "display_top_k_movies(SGD_sim, item_ind[movie_id], k=5)"
   ]
  },
  {
   "cell_type": "markdown",
   "metadata": {},
   "source": [
    "### Add in implicit preferences\n",
    "\n",
    "Try to improve recommendation by adding in implicit preferences factor to items.  Let $N(u)$ be the set of items that are implicitly preferred by user $u$.  For item $i$, we have an associated new factor $x_i$.  So a user who showed preference in item $i$ is characterized by $$|N(u)|^{-1/2} \\sum_{i \\in N(u)} x_i$$"
   ]
  },
  {
   "cell_type": "code",
   "execution_count": 1,
   "metadata": {},
   "outputs": [],
   "source": [
    "#take 10 randomly selected ratings from each user and use this as the testing set\n",
    "def train_test_split(ratings):\n",
    "    test = np.zeros(ratings.shape)\n",
    "    train = ratings.copy()\n",
    "    \n",
    "    for row in range(n_users):\n",
    "        ind = ratings[row,:].nonzero()[0]\n",
    "        nind = len(ind)\n",
    "        test_ind = np.random.choice(ind,size=10,replace=False)\n",
    "        train[row,test_ind] = 0.0\n",
    "        test[row,test_ind] = ratings[row,test_ind]\n",
    "        \n",
    "    #make sure training and testing sets are disjoint\n",
    "    assert(np.all(train*test==0))\n",
    "    \n",
    "    return train,test"
   ]
  },
  {
   "cell_type": "code",
   "execution_count": 2,
   "metadata": {},
   "outputs": [
    {
     "name": "stdout",
     "output_type": "stream",
     "text": [
      "(610, 9724)\n"
     ]
    }
   ],
   "source": [
    "import MF\n",
    "import pandas as pd\n",
    "import numpy as np\n",
    "\n",
    "df = pd.read_csv('ratings.csv')\n",
    "\n",
    "n_users = df.userId.unique().shape[0]\n",
    "n_items = df.movieId.unique().shape[0]\n",
    "\n",
    "#map movieId to indices since movieId's are not consequtive integers\n",
    "item_ind = {}\n",
    "lastind = 0\n",
    "for row in df.itertuples():\n",
    "    if row[2] in item_ind:\n",
    "        continue\n",
    "    else:\n",
    "        item_ind[row[2]] = lastind\n",
    "        lastind += 1\n",
    "        \n",
    "ratings = np.zeros((n_users,n_items))\n",
    "print(ratings.shape)\n",
    "for row in df.itertuples():\n",
    "    ratings[row[1]-1,item_ind[row[2]]] = row[3]\n",
    "\n",
    "train,test = train_test_split(ratings)\n",
    "    \n",
    "SGD_MF_IP = MF.ExplicitMF(train,n_factors=20,item_reg=0.01,user_reg=0.01,item_bias_reg=0.01,user_bias_reg=0.01,alg='sgd',implicit_pref=True)"
   ]
  },
  {
   "cell_type": "code",
   "execution_count": 3,
   "metadata": {},
   "outputs": [],
   "source": [
    "import matplotlib.pyplot as plt\n",
    "\n",
    "def plot_learning_curve(iter_list,test,model):\n",
    "    test_mse,train_mse = model.learning_curve(iter_list,test,learning_rate=0.01)\n",
    "    \n",
    "    plt.figure(figsize=(10,8))\n",
    "    plt.plot(iter_list,test_mse,'-X',label='Test MSE')\n",
    "    plt.plot(iter_list,train_mse,'-D',label='Train MSE')\n",
    "    plt.xlabel('no. of iterations')\n",
    "    plt.ylabel('MSE')\n",
    "    plt.legend()\n",
    "    plt.show()"
   ]
  },
  {
   "cell_type": "code",
   "execution_count": 4,
   "metadata": {},
   "outputs": [
    {
     "ename": "TypeError",
     "evalue": "unsupported operand type(s) for *: 'float' and 'NoneType'",
     "output_type": "error",
     "traceback": [
      "\u001b[1;31m---------------------------------------------------------------------------\u001b[0m",
      "\u001b[1;31mTypeError\u001b[0m                                 Traceback (most recent call last)",
      "\u001b[1;32m<ipython-input-4-e2d6231edc63>\u001b[0m in \u001b[0;36m<module>\u001b[1;34m\u001b[0m\n\u001b[0;32m      1\u001b[0m \u001b[0miter_list\u001b[0m \u001b[1;33m=\u001b[0m \u001b[1;33m[\u001b[0m\u001b[1;36m1\u001b[0m\u001b[1;33m,\u001b[0m\u001b[1;36m5\u001b[0m\u001b[1;33m,\u001b[0m\u001b[1;36m10\u001b[0m\u001b[1;33m,\u001b[0m\u001b[1;36m20\u001b[0m\u001b[1;33m]\u001b[0m\u001b[1;33m\u001b[0m\u001b[1;33m\u001b[0m\u001b[0m\n\u001b[0;32m      2\u001b[0m \u001b[1;33m\u001b[0m\u001b[0m\n\u001b[1;32m----> 3\u001b[1;33m \u001b[0mplot_learning_curve\u001b[0m\u001b[1;33m(\u001b[0m\u001b[0miter_list\u001b[0m\u001b[1;33m,\u001b[0m\u001b[0mtest\u001b[0m\u001b[1;33m,\u001b[0m\u001b[0mSGD_MF_IP\u001b[0m\u001b[1;33m)\u001b[0m\u001b[1;33m\u001b[0m\u001b[1;33m\u001b[0m\u001b[0m\n\u001b[0m",
      "\u001b[1;32m<ipython-input-3-f2295e1ca42b>\u001b[0m in \u001b[0;36mplot_learning_curve\u001b[1;34m(iter_list, test, model)\u001b[0m\n\u001b[0;32m      2\u001b[0m \u001b[1;33m\u001b[0m\u001b[0m\n\u001b[0;32m      3\u001b[0m \u001b[1;32mdef\u001b[0m \u001b[0mplot_learning_curve\u001b[0m\u001b[1;33m(\u001b[0m\u001b[0miter_list\u001b[0m\u001b[1;33m,\u001b[0m\u001b[0mtest\u001b[0m\u001b[1;33m,\u001b[0m\u001b[0mmodel\u001b[0m\u001b[1;33m)\u001b[0m\u001b[1;33m:\u001b[0m\u001b[1;33m\u001b[0m\u001b[1;33m\u001b[0m\u001b[0m\n\u001b[1;32m----> 4\u001b[1;33m     \u001b[0mtest_mse\u001b[0m\u001b[1;33m,\u001b[0m\u001b[0mtrain_mse\u001b[0m \u001b[1;33m=\u001b[0m \u001b[0mmodel\u001b[0m\u001b[1;33m.\u001b[0m\u001b[0mlearning_curve\u001b[0m\u001b[1;33m(\u001b[0m\u001b[0miter_list\u001b[0m\u001b[1;33m,\u001b[0m\u001b[0mtest\u001b[0m\u001b[1;33m,\u001b[0m\u001b[0mlearning_rate\u001b[0m\u001b[1;33m=\u001b[0m\u001b[1;36m0.01\u001b[0m\u001b[1;33m)\u001b[0m\u001b[1;33m\u001b[0m\u001b[1;33m\u001b[0m\u001b[0m\n\u001b[0m\u001b[0;32m      5\u001b[0m \u001b[1;33m\u001b[0m\u001b[0m\n\u001b[0;32m      6\u001b[0m     \u001b[0mplt\u001b[0m\u001b[1;33m.\u001b[0m\u001b[0mfigure\u001b[0m\u001b[1;33m(\u001b[0m\u001b[0mfigsize\u001b[0m\u001b[1;33m=\u001b[0m\u001b[1;33m(\u001b[0m\u001b[1;36m10\u001b[0m\u001b[1;33m,\u001b[0m\u001b[1;36m8\u001b[0m\u001b[1;33m)\u001b[0m\u001b[1;33m)\u001b[0m\u001b[1;33m\u001b[0m\u001b[1;33m\u001b[0m\u001b[0m\n",
      "\u001b[1;32m~\\Documents\\ML_SANDBOX\\MovieLens\\ml-latest-small\\ml-latest-small\\MF.py\u001b[0m in \u001b[0;36mlearning_curve\u001b[1;34m(self, iter_list, test, learning_rate)\u001b[0m\n\u001b[0;32m    213\u001b[0m             \u001b[0mcurr_iter\u001b[0m \u001b[1;33m=\u001b[0m \u001b[0miter_list\u001b[0m\u001b[1;33m[\u001b[0m\u001b[0mi\u001b[0m\u001b[1;33m]\u001b[0m\u001b[1;33m\u001b[0m\u001b[1;33m\u001b[0m\u001b[0m\n\u001b[0;32m    214\u001b[0m             \u001b[1;32mif\u001b[0m \u001b[0mi\u001b[0m \u001b[1;33m==\u001b[0m \u001b[1;36m0\u001b[0m\u001b[1;33m:\u001b[0m\u001b[1;33m\u001b[0m\u001b[1;33m\u001b[0m\u001b[0m\n\u001b[1;32m--> 215\u001b[1;33m                 \u001b[0mself\u001b[0m\u001b[1;33m.\u001b[0m\u001b[0mtrain\u001b[0m\u001b[1;33m(\u001b[0m\u001b[0mcurr_iter\u001b[0m\u001b[1;33m,\u001b[0m \u001b[0minit_flag\u001b[0m\u001b[1;33m=\u001b[0m\u001b[1;32mTrue\u001b[0m\u001b[1;33m,\u001b[0m \u001b[0mlearning_rate\u001b[0m\u001b[1;33m=\u001b[0m\u001b[0mlearning_rate\u001b[0m\u001b[1;33m)\u001b[0m\u001b[1;33m\u001b[0m\u001b[1;33m\u001b[0m\u001b[0m\n\u001b[0m\u001b[0;32m    216\u001b[0m             \u001b[1;32melse\u001b[0m\u001b[1;33m:\u001b[0m\u001b[1;33m\u001b[0m\u001b[1;33m\u001b[0m\u001b[0m\n\u001b[0;32m    217\u001b[0m                 \u001b[0mself\u001b[0m\u001b[1;33m.\u001b[0m\u001b[0mtrain\u001b[0m\u001b[1;33m(\u001b[0m\u001b[0mcurr_iter\u001b[0m\u001b[1;33m-\u001b[0m\u001b[0mprev_iter\u001b[0m\u001b[1;33m,\u001b[0m\u001b[0minit_flag\u001b[0m\u001b[1;33m=\u001b[0m\u001b[1;32mFalse\u001b[0m\u001b[1;33m,\u001b[0m \u001b[0mlearning_rate\u001b[0m\u001b[1;33m=\u001b[0m\u001b[0mlearning_rate\u001b[0m\u001b[1;33m)\u001b[0m\u001b[1;33m\u001b[0m\u001b[1;33m\u001b[0m\u001b[0m\n",
      "\u001b[1;32m~\\Documents\\ML_SANDBOX\\MovieLens\\ml-latest-small\\ml-latest-small\\MF.py\u001b[0m in \u001b[0;36mtrain\u001b[1;34m(self, n_iter, init_flag, learning_rate)\u001b[0m\n\u001b[0;32m    114\u001b[0m             \u001b[1;32mfor\u001b[0m \u001b[0mi\u001b[0m \u001b[1;32min\u001b[0m \u001b[0mrange\u001b[0m\u001b[1;33m(\u001b[0m\u001b[0mn_iter\u001b[0m\u001b[1;33m)\u001b[0m\u001b[1;33m:\u001b[0m\u001b[1;33m\u001b[0m\u001b[1;33m\u001b[0m\u001b[0m\n\u001b[0;32m    115\u001b[0m                 \u001b[1;31m#iterate through sgd w/ implicit pref\u001b[0m\u001b[1;33m\u001b[0m\u001b[1;33m\u001b[0m\u001b[1;33m\u001b[0m\u001b[0m\n\u001b[1;32m--> 116\u001b[1;33m                 \u001b[0mself\u001b[0m\u001b[1;33m.\u001b[0m\u001b[0msgd_ip\u001b[0m\u001b[1;33m(\u001b[0m\u001b[1;33m)\u001b[0m\u001b[1;33m\u001b[0m\u001b[1;33m\u001b[0m\u001b[0m\n\u001b[0m\u001b[0;32m    117\u001b[0m \u001b[1;33m\u001b[0m\u001b[0m\n\u001b[0;32m    118\u001b[0m     \u001b[1;32mdef\u001b[0m \u001b[0msgd\u001b[0m\u001b[1;33m(\u001b[0m\u001b[0mself\u001b[0m\u001b[1;33m)\u001b[0m\u001b[1;33m:\u001b[0m\u001b[1;33m\u001b[0m\u001b[1;33m\u001b[0m\u001b[0m\n",
      "\u001b[1;32m~\\Documents\\ML_SANDBOX\\MovieLens\\ml-latest-small\\ml-latest-small\\MF.py\u001b[0m in \u001b[0;36msgd_ip\u001b[1;34m(self)\u001b[0m\n\u001b[0;32m    157\u001b[0m             \u001b[0mprediction\u001b[0m \u001b[1;33m=\u001b[0m \u001b[0mself\u001b[0m\u001b[1;33m.\u001b[0m\u001b[0mglobal_bias\u001b[0m \u001b[1;33m+\u001b[0m \u001b[0mself\u001b[0m\u001b[1;33m.\u001b[0m\u001b[0muser_bias\u001b[0m\u001b[1;33m[\u001b[0m\u001b[0mu\u001b[0m\u001b[1;33m]\u001b[0m \u001b[1;33m+\u001b[0m \u001b[0mself\u001b[0m\u001b[1;33m.\u001b[0m\u001b[0mitem_bias\u001b[0m\u001b[1;33m[\u001b[0m\u001b[0mi\u001b[0m\u001b[1;33m]\u001b[0m \u001b[1;33m+\u001b[0m\u001b[0;31m \u001b[0m\u001b[0;31m\\\u001b[0m\u001b[1;33m\u001b[0m\u001b[1;33m\u001b[0m\u001b[0m\n\u001b[0;32m    158\u001b[0m                         self.item_mat[i, :].T.dot(self.user_mat[u, :] + \\\n\u001b[1;32m--> 159\u001b[1;33m                         1.0/np.sqrt(numN) * curr_sum_ipm)\n\u001b[0m\u001b[0;32m    160\u001b[0m             \u001b[0merr\u001b[0m \u001b[1;33m=\u001b[0m \u001b[0mself\u001b[0m\u001b[1;33m.\u001b[0m\u001b[0mratings\u001b[0m\u001b[1;33m[\u001b[0m\u001b[0mu\u001b[0m\u001b[1;33m,\u001b[0m\u001b[0mi\u001b[0m\u001b[1;33m]\u001b[0m\u001b[1;33m-\u001b[0m\u001b[0mprediction\u001b[0m\u001b[1;33m\u001b[0m\u001b[1;33m\u001b[0m\u001b[0m\n\u001b[0;32m    161\u001b[0m \u001b[1;33m\u001b[0m\u001b[0m\n",
      "\u001b[1;31mTypeError\u001b[0m: unsupported operand type(s) for *: 'float' and 'NoneType'"
     ]
    }
   ],
   "source": [
    "iter_list = [1,5,10,20]\n",
    "    \n",
    "plot_learning_curve(iter_list,test,SGD_MF_IP)"
   ]
  },
  {
   "cell_type": "code",
   "execution_count": null,
   "metadata": {},
   "outputs": [
    {
     "name": "stdout",
     "output_type": "stream",
     "text": [
      "> \u001b[1;32mc:\\users\\george\\documents\\ml_sandbox\\movielens\\ml-latest-small\\ml-latest-small\\mf.py\u001b[0m(159)\u001b[0;36msgd_ip\u001b[1;34m()\u001b[0m\n",
      "\u001b[1;32m    157 \u001b[1;33m            \u001b[0mprediction\u001b[0m \u001b[1;33m=\u001b[0m \u001b[0mself\u001b[0m\u001b[1;33m.\u001b[0m\u001b[0mglobal_bias\u001b[0m \u001b[1;33m+\u001b[0m \u001b[0mself\u001b[0m\u001b[1;33m.\u001b[0m\u001b[0muser_bias\u001b[0m\u001b[1;33m[\u001b[0m\u001b[0mu\u001b[0m\u001b[1;33m]\u001b[0m \u001b[1;33m+\u001b[0m \u001b[0mself\u001b[0m\u001b[1;33m.\u001b[0m\u001b[0mitem_bias\u001b[0m\u001b[1;33m[\u001b[0m\u001b[0mi\u001b[0m\u001b[1;33m]\u001b[0m \u001b[1;33m+\u001b[0m\u001b[0;31m \u001b[0m\u001b[0;31m\\\u001b[0m\u001b[1;33m\u001b[0m\u001b[1;33m\u001b[0m\u001b[0m\n",
      "\u001b[0m\u001b[1;32m    158 \u001b[1;33m                        self.item_mat[i, :].T.dot(self.user_mat[u, :] + \\\n",
      "\u001b[0m\u001b[1;32m--> 159 \u001b[1;33m                        1.0/np.sqrt(numN) * curr_sum_ipm)\n",
      "\u001b[0m\u001b[1;32m    160 \u001b[1;33m            \u001b[0merr\u001b[0m \u001b[1;33m=\u001b[0m \u001b[0mself\u001b[0m\u001b[1;33m.\u001b[0m\u001b[0mratings\u001b[0m\u001b[1;33m[\u001b[0m\u001b[0mu\u001b[0m\u001b[1;33m,\u001b[0m\u001b[0mi\u001b[0m\u001b[1;33m]\u001b[0m\u001b[1;33m-\u001b[0m\u001b[0mprediction\u001b[0m\u001b[1;33m\u001b[0m\u001b[1;33m\u001b[0m\u001b[0m\n",
      "\u001b[0m\u001b[1;32m    161 \u001b[1;33m\u001b[1;33m\u001b[0m\u001b[0m\n",
      "\u001b[0m\n",
      "ipdb> numN\n",
      "45157\n",
      "ipdb> curr_sum_ipm\n"
     ]
    }
   ],
   "source": [
    "%debug"
   ]
  },
  {
   "cell_type": "markdown",
   "metadata": {},
   "source": [
    "## Using SVD"
   ]
  },
  {
   "cell_type": "code",
   "execution_count": 28,
   "metadata": {},
   "outputs": [],
   "source": [
    "#take 10 randomly selected ratings from each user and use this as the testing set\n",
    "def train_test_split(ratings):\n",
    "    test = np.zeros(ratings.shape)\n",
    "    train = ratings.copy()\n",
    "    \n",
    "    for row in range(n_users):\n",
    "        ind = ratings[row,:].nonzero()[0]\n",
    "        nind = len(ind)\n",
    "        test_ind = np.random.choice(ind,size=10,replace=False)\n",
    "        train[row,test_ind] = 0.0\n",
    "        test[row,test_ind] = ratings[row,test_ind]\n",
    "        \n",
    "    #make sure training and testing sets are disjoint\n",
    "    assert(np.all(train*test==0))\n",
    "    \n",
    "    return train,test"
   ]
  },
  {
   "cell_type": "code",
   "execution_count": 29,
   "metadata": {},
   "outputs": [
    {
     "name": "stdout",
     "output_type": "stream",
     "text": [
      "(610, 9724)\n"
     ]
    }
   ],
   "source": [
    "import numpy as np\n",
    "import pandas as pd\n",
    "from scipy.sparse.linalg import svds\n",
    "from scipy.sparse import csc_matrix\n",
    "from sklearn.metrics import mean_squared_error\n",
    "from sklearn.metrics.pairwise import cosine_similarity\n",
    "\n",
    "df = pd.read_csv('ratings.csv')\n",
    "\n",
    "n_users = df.userId.unique().shape[0]\n",
    "n_items = df.movieId.unique().shape[0]\n",
    "\n",
    "#map movieId to indices since movieId's are not consequtive integers\n",
    "item_ind = {}\n",
    "lastind = 0\n",
    "for row in df.itertuples():\n",
    "    if row[2] in item_ind:\n",
    "        continue\n",
    "    else:\n",
    "        item_ind[row[2]] = lastind\n",
    "        lastind += 1\n",
    "        \n",
    "ratings = np.zeros((n_users,n_items))\n",
    "print(ratings.shape)\n",
    "for row in df.itertuples():\n",
    "    ratings[row[1]-1,item_ind[row[2]]] = row[3]\n",
    "\n",
    "train,test = train_test_split(ratings)"
   ]
  },
  {
   "cell_type": "code",
   "execution_count": 30,
   "metadata": {},
   "outputs": [],
   "source": [
    "#R = csc_matrix(ratings)\n",
    "Rtrain = csc_matrix(train)"
   ]
  },
  {
   "cell_type": "code",
   "execution_count": 31,
   "metadata": {},
   "outputs": [],
   "source": [
    " U, S, VT = svds(Rtrain, k=10)"
   ]
  },
  {
   "cell_type": "code",
   "execution_count": 32,
   "metadata": {},
   "outputs": [],
   "source": [
    "def get_mse(prediction, observed):\n",
    "    prediction[observed.nonzero()].flatten()\n",
    "    observed[observed.nonzero()].flatten()\n",
    "        \n",
    "    return mean_squared_error(observed,prediction)"
   ]
  },
  {
   "cell_type": "code",
   "execution_count": 33,
   "metadata": {},
   "outputs": [
    {
     "name": "stdout",
     "output_type": "stream",
     "text": [
      "(610, 10)\n",
      "(10, 10)\n",
      "(10, 9724)\n"
     ]
    }
   ],
   "source": [
    "print(U.shape)\n",
    "print(np.diag(S).shape)\n",
    "print(VT.shape)"
   ]
  },
  {
   "cell_type": "code",
   "execution_count": 34,
   "metadata": {},
   "outputs": [
    {
     "name": "stdout",
     "output_type": "stream",
     "text": [
      "0.1319795604817947\n",
      "0.08953488207066403\n"
     ]
    }
   ],
   "source": [
    "prediction = U.dot(np.diag(S).dot(VT))\n",
    "SVD_MSE_train = get_mse(prediction,train)\n",
    "print(SVD_MSE_train)\n",
    "\n",
    "SVD_MSE_test = get_mse(prediction,test)\n",
    "print(SVD_MSE_test)"
   ]
  },
  {
   "cell_type": "code",
   "execution_count": 31,
   "metadata": {},
   "outputs": [
    {
     "name": "stdout",
     "output_type": "stream",
     "text": [
      "[[False False False ... False False False]]\n"
     ]
    }
   ],
   "source": [
    "print(VT == 0)"
   ]
  },
  {
   "cell_type": "code",
   "execution_count": 32,
   "metadata": {},
   "outputs": [],
   "source": [
    "def cosine_sim(item_mat):\n",
    "    sim = item_mat.dot(item_mat.T)\n",
    "    norms = np.array([np.sort(np.diagonal(sim))])\n",
    "    print(norms)\n",
    "    return sim / norms / norms.T"
   ]
  },
  {
   "cell_type": "code",
   "execution_count": 35,
   "metadata": {},
   "outputs": [
    {
     "name": "stdout",
     "output_type": "stream",
     "text": [
      "(9724, 9724)\n"
     ]
    }
   ],
   "source": [
    "SVD_sim = cosine_similarity(VT.T,VT.T)\n",
    "print(SVD_sim.shape)"
   ]
  },
  {
   "cell_type": "code",
   "execution_count": 36,
   "metadata": {},
   "outputs": [],
   "source": [
    "#find top 5 recommended movies\n",
    "def display_top_k_movies(sim, movie_ind, k=5):\n",
    "    movie_ind_full = np.argsort(sim[movie_ind,:])[::-1]\n",
    "    \n",
    "    for i in range(k+1):\n",
    "        curr_ind = movie_ind_full[i]\n",
    "        \n",
    "        curr_movie_id = mat_ind_to_movie_ind(curr_ind)\n",
    "        \n",
    "        assert(curr_movie_id != False)\n",
    "        \n",
    "        ind = np.nonzero(df_links['movieId'].values == curr_movie_id)\n",
    "        \n",
    "        #print the original movie also\n",
    "        if i == 0:\n",
    "            print('original movie:')\n",
    "            print('https://www.themoviedb.org/movie/'+str(int(df_links['tmdbId'].values[np.nonzero(df_links['movieId'].values == mat_ind_to_movie_ind(movie_ind))])))\n",
    "            print('')\n",
    "            print('similar movies:')\n",
    "        elif i > 0:\n",
    "            print('https://www.themoviedb.org/movie/'+str(int(df_links['tmdbId'].values[ind])))"
   ]
  },
  {
   "cell_type": "code",
   "execution_count": 37,
   "metadata": {},
   "outputs": [],
   "source": [
    "def mat_ind_to_movie_ind(mat_ind):\n",
    "    \n",
    "    for key,val in item_ind.items():\n",
    "        if val == mat_ind:\n",
    "            return key\n",
    "        \n",
    "    return False #if code ends up here, this mat_ind is invalid"
   ]
  },
  {
   "cell_type": "code",
   "execution_count": 22,
   "metadata": {},
   "outputs": [],
   "source": [
    "df_links = pd.read_csv('links.csv')"
   ]
  },
  {
   "cell_type": "code",
   "execution_count": 38,
   "metadata": {},
   "outputs": [
    {
     "name": "stdout",
     "output_type": "stream",
     "text": [
      "original movie:\n",
      "https://www.themoviedb.org/movie/253412\n",
      "\n",
      "similar movies:\n",
      "https://www.themoviedb.org/movie/33909\n",
      "https://www.themoviedb.org/movie/50839\n",
      "https://www.themoviedb.org/movie/24253\n",
      "https://www.themoviedb.org/movie/46503\n",
      "https://www.themoviedb.org/movie/77866\n"
     ]
    }
   ],
   "source": [
    "movie_id = 142448\n",
    "display_top_k_movies(SVD_sim, item_ind[movie_id], k=5)"
   ]
  },
  {
   "cell_type": "code",
   "execution_count": null,
   "metadata": {},
   "outputs": [],
   "source": []
  }
 ],
 "metadata": {
  "kernelspec": {
   "display_name": "Python 3",
   "language": "python",
   "name": "python3"
  },
  "language_info": {
   "codemirror_mode": {
    "name": "ipython",
    "version": 3
   },
   "file_extension": ".py",
   "mimetype": "text/x-python",
   "name": "python",
   "nbconvert_exporter": "python",
   "pygments_lexer": "ipython3",
   "version": "3.7.3"
  }
 },
 "nbformat": 4,
 "nbformat_minor": 2
}
